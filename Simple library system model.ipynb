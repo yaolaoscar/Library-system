{
 "cells": [
  {
   "cell_type": "code",
   "execution_count": 1,
   "id": "c398cd59-6625-46ff-ac19-e8edc9b63b33",
   "metadata": {},
   "outputs": [
    {
     "name": "stdout",
     "output_type": "stream",
     "text": [
      "Added 'The Great Gatsby'by Scot Fitgerald to the library.\n",
      "Added 'The Big Bang Theory'by Frankline Lindsay to the library.\n",
      "Added 'Day Dreamer'by Alan Jackson to the library.\n",
      "Added 'Midsummer Night'by Jim Reeeves to the library.\n"
     ]
    }
   ],
   "source": [
    "#Creating a simple library system\n",
    "class Book:\n",
    "    def __init__(self,title, author):\n",
    "        self.title=title\n",
    "        self.author=author\n",
    "        self.is_available=True #Initially, the book is available in the library\n",
    "    def borrow_book(self):\n",
    "        if self.is_available:\n",
    "            self.is_available=False\n",
    "            print(f\"You have borrowed {self.title} by {self.author}\")\n",
    "        else:\n",
    "            print(f\"sorry, {self.title} by {self.author} is currently unavailable.\")\n",
    "    def return_book(self):\n",
    "        self.is_available=True\n",
    "        print(f\"You have returned '{self.title}' by '{self.author}'\")\n",
    "\n",
    "        \n",
    "#Create the library class\n",
    "class Library:\n",
    "        def __init__(self):\n",
    "            self.books=[] #list to store all books in the library\n",
    "\n",
    "        def add_book(self,book):\n",
    "            self.books.append(book)\n",
    "            print(f\"Added '{book.title}'by {book.author} to the library.\")\n",
    "        def remove_book(self,title):\n",
    "            for book in self.books:\n",
    "                if book.title==title:\n",
    "                    self.books.remove(book)\n",
    "                    print(f\"Removed'{title}' from the library.\")\n",
    "                    return\n",
    "                print(f\"Book '{title}' not found in the library.\")\n",
    "        def list_available_books(self):\n",
    "            print(\"Available books: \")\n",
    "            for book in self.books:\n",
    "                if book.is_available:\n",
    "                    print(f\"'{book.title}'by {book.author}\")\n",
    "                    print(\"\\n\")\n",
    "        def borrow_book(self,title):\n",
    "            for book in self.books:\n",
    "                if book.title==title:\n",
    "                    book.borrow_book()\n",
    "                    return\n",
    "                print(f\"Book '{title}'not found in the library\")\n",
    "        def return_book(self,title):\n",
    "            for book in self.books:\n",
    "                if book.title==title:\n",
    "                    book.return_book()\n",
    "                    return\n",
    "                print(f\"Book '{title}' not found in the library.\")\n",
    "\n",
    "\n",
    "#using the classes\n",
    "library=Library()\n",
    "#create books\n",
    "book1=Book(\"The Great Gatsby\",\"Scot Fitgerald\")\n",
    "book2=Book(\"The Big Bang Theory\", \"Frankline Lindsay\")\n",
    "book3=Book(\"Day Dreamer\", \"Alan Jackson\")\n",
    "book4=Book(\"Midsummer Night\", \"Jim Reeeves\")\n",
    "#add the books to the library\n",
    "library.add_book(book1)\n",
    "library.add_book(book2)\n",
    "library.add_book(book3)\n",
    "library.add_book(book4)"
   ]
  },
  {
   "cell_type": "code",
   "execution_count": 2,
   "id": "a8c9c993-d84f-4118-9a3f-b1a88a612c27",
   "metadata": {},
   "outputs": [
    {
     "name": "stdout",
     "output_type": "stream",
     "text": [
      "Available books: \n",
      "'The Great Gatsby'by Scot Fitgerald\n",
      "\n",
      "\n",
      "'The Big Bang Theory'by Frankline Lindsay\n",
      "\n",
      "\n",
      "'Day Dreamer'by Alan Jackson\n",
      "\n",
      "\n",
      "'Midsummer Night'by Jim Reeeves\n",
      "\n",
      "\n"
     ]
    }
   ],
   "source": [
    "library.list_available_books()"
   ]
  },
  {
   "cell_type": "code",
   "execution_count": 3,
   "id": "af87a447-e86e-48b7-9301-5f21500682ec",
   "metadata": {},
   "outputs": [
    {
     "name": "stdout",
     "output_type": "stream",
     "text": [
      "Book 'Day Dreamer'not found in the library\n",
      "Book 'Day Dreamer'not found in the library\n",
      "You have borrowed Day Dreamer by Alan Jackson\n"
     ]
    }
   ],
   "source": [
    "library.borrow_book(\"Day Dreamer\")"
   ]
  },
  {
   "cell_type": "code",
   "execution_count": 4,
   "id": "12d94abb-d310-4ade-9474-6178d8c12144",
   "metadata": {},
   "outputs": [
    {
     "name": "stdout",
     "output_type": "stream",
     "text": [
      "Book 'Day Dreamer'not found in the library\n",
      "Book 'Day Dreamer'not found in the library\n",
      "sorry, Day Dreamer by Alan Jackson is currently unavailable.\n"
     ]
    }
   ],
   "source": [
    "library.borrow_book(\"Day Dreamer\")"
   ]
  },
  {
   "cell_type": "code",
   "execution_count": 5,
   "id": "101d402a-b906-4072-8432-9429abb89a77",
   "metadata": {},
   "outputs": [
    {
     "name": "stdout",
     "output_type": "stream",
     "text": [
      "Available books: \n",
      "'The Great Gatsby'by Scot Fitgerald\n",
      "\n",
      "\n",
      "'The Big Bang Theory'by Frankline Lindsay\n",
      "\n",
      "\n",
      "'Midsummer Night'by Jim Reeeves\n",
      "\n",
      "\n"
     ]
    }
   ],
   "source": [
    "library.list_available_books()"
   ]
  },
  {
   "cell_type": "code",
   "execution_count": 6,
   "id": "3b194769-84a7-40d9-8065-c59c94a30ca0",
   "metadata": {},
   "outputs": [
    {
     "name": "stdout",
     "output_type": "stream",
     "text": [
      "Book 'Day Dreamer' not found in the library.\n",
      "Book 'Day Dreamer' not found in the library.\n",
      "You have returned 'Day Dreamer' by 'Alan Jackson'\n"
     ]
    }
   ],
   "source": [
    "library.return_book(\"Day Dreamer\")"
   ]
  },
  {
   "cell_type": "code",
   "execution_count": 7,
   "id": "28f9f59b-4f3d-402b-82a4-5c07642ed430",
   "metadata": {},
   "outputs": [
    {
     "name": "stdout",
     "output_type": "stream",
     "text": [
      "Available books: \n",
      "'The Great Gatsby'by Scot Fitgerald\n",
      "\n",
      "\n",
      "'The Big Bang Theory'by Frankline Lindsay\n",
      "\n",
      "\n",
      "'Day Dreamer'by Alan Jackson\n",
      "\n",
      "\n",
      "'Midsummer Night'by Jim Reeeves\n",
      "\n",
      "\n"
     ]
    }
   ],
   "source": [
    "library.list_available_books()"
   ]
  },
  {
   "cell_type": "code",
   "execution_count": null,
   "id": "503180fa-e818-4418-8bb2-ca0539331756",
   "metadata": {},
   "outputs": [],
   "source": []
  }
 ],
 "metadata": {
  "kernelspec": {
   "display_name": "Python 3 (ipykernel)",
   "language": "python",
   "name": "python3"
  },
  "language_info": {
   "codemirror_mode": {
    "name": "ipython",
    "version": 3
   },
   "file_extension": ".py",
   "mimetype": "text/x-python",
   "name": "python",
   "nbconvert_exporter": "python",
   "pygments_lexer": "ipython3",
   "version": "3.11.7"
  }
 },
 "nbformat": 4,
 "nbformat_minor": 5
}
